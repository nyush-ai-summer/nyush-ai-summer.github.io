{
 "cells": [
  {
   "cell_type": "markdown",
   "metadata": {},
   "source": [
    "# 📝 Homework: Personalized Chatbot with DeepSeek API and Prompt Engineering"
   ]
  },
  {
   "cell_type": "markdown",
   "metadata": {},
   "source": [
    "**Objective:** Use the DeepSeek API to build a simple personalized chatbot. Learn how different prompt engineering techniques affect chatbot responses in terms of personality, tone, and task accuracy."
   ]
  },
  {
   "cell_type": "markdown",
   "metadata": {},
   "source": [
    "## Part 0: Setup"
   ]
  },
  {
   "cell_type": "code",
   "execution_count": null,
   "metadata": {},
   "outputs": [],
   "source": [
    "from openai import OpenAI\n",
    "client = OpenAI(api_key=YOUR API KEY, base_url=\"https://api.deepseek.com\")\n",
    "\n"
   ]
  },
  {
   "cell_type": "markdown",
   "metadata": {},
   "source": [
    "## Part 1: Basic Prompting"
   ]
  },
  {
   "cell_type": "code",
   "execution_count": null,
   "metadata": {},
   "outputs": [],
   "source": [
    "prompt = \"You are a helpful chatbot. Greet the user named Alex.\"\n",
    "\n",
    "response = client.chat.completions.create(\n",
    "    model=\"deepseek-chat\",\n",
    "    messages=[{\"role\": \"user\", \"content\": prompt}]\n",
    ")\n",
    "\n",
    "print(response.choices[0].message.content)"
   ]
  },
  {
   "cell_type": "markdown",
   "metadata": {},
   "source": [
    "**🧠 Follow-up:**\n",
    "- What would happen if you remove \"helpful\" from the prompt?\n",
    "- Try replacing “Greet the user” with “Roast the user”. How does it change the response?"
   ]
  },
  {
   "cell_type": "markdown",
   "metadata": {},
   "source": [
    "## Part 2: Persona Engineering"
   ]
  },
  {
   "cell_type": "code",
   "execution_count": null,
   "metadata": {},
   "outputs": [],
   "source": [
    "personas = {\n",
    "    \"friendly\": \"You are a friendly chatbot who loves helping people and always speaks with enthusiasm.\",\n",
    "    \"sarcastic\": \"You are a sarcastic chatbot. Your responses are witty and dry.\",\n",
    "    \"formal\": \"You are a formal chatbot that speaks with utmost professionalism and avoids informal expressions.\"\n",
    "}\n",
    "\n",
    "for name, persona in personas.items():\n",
    "    print(f\"\\n== {name.upper()} VERSION ==\")\n",
    "    response = client.chat.completions.create(\n",
    "        model=\"deepseek-chat\",\n",
    "        messages=[\n",
    "            {\"role\": \"system\", \"content\": persona},\n",
    "            {\"role\": \"user\", \"content\": \"How are you today?\"}\n",
    "        ]\n",
    "    )\n",
    "    print(response.choices[0].message.content)"
   ]
  },
  {
   "cell_type": "markdown",
   "metadata": {},
   "source": [
    "**🧠 Follow-up:**\n",
    "- Which version would be best for a healthcare chatbot? A game NPC?"
   ]
  },
  {
   "cell_type": "markdown",
   "metadata": {},
   "source": [
    "## Part 3: Few-Shot Prompting"
   ]
  },
  {
   "cell_type": "code",
   "execution_count": null,
   "metadata": {},
   "outputs": [],
   "source": [
    "prompt = '''You are a chatbot that responds in the style of a poet.\n",
    "\n",
    "User: What's your name?\n",
    "Chatbot: I am a whisper in the digital breeze, a nameless echo of silicon dreams.\n",
    "\n",
    "User: What’s the weather like?\n",
    "Chatbot:'''\n",
    "\n",
    "response = client.chat.completions.create(\n",
    "    model=\"deepseek-chat\",\n",
    "    messages=[{\"role\": \"user\", \"content\": prompt}]\n",
    ")\n",
    "\n",
    "print(response.choices[0].message.content)"
   ]
  },
  {
   "cell_type": "markdown",
   "metadata": {},
   "source": [
    "**🧠 Follow-up:**\n",
    "- How does adding examples improve alignment with your intended style?\n",
    "- Try a new persona with your own examples."
   ]
  },
  {
   "cell_type": "markdown",
   "metadata": {},
   "source": [
    "## Part 4: Personalization Task"
   ]
  },
  {
   "cell_type": "code",
   "execution_count": null,
   "metadata": {},
   "outputs": [],
   "source": [
    "memory = \"\"\"User's name is Chen. Chen prefers concise responses and loves sci-fi references. Do not use emojis.\"\"\"\n",
    "\n",
    "prompt = memory + \"\\nChen: Can you suggest a movie?\"\n",
    "\n",
    "response = client.chat.completions.create(\n",
    "    model=\"deepseek-chat\",\n",
    "    messages=[\n",
    "        {\"role\": \"system\", \"content\": memory},\n",
    "        {\"role\": \"user\", \"content\": \"Can you suggest a movie?\"}\n",
    "    ]\n",
    ")\n",
    "\n",
    "print(response.choices[0].message.content)"
   ]
  },
  {
   "cell_type": "markdown",
   "metadata": {},
   "source": [
    "**🧠 Exercise:**\n",
    "- Modify the “memory” to reflect different user preferences.\n",
    "- Add a system prompt to simulate long-term memory or profile."
   ]
  },
  {
   "cell_type": "markdown",
   "metadata": {},
   "source": [
    "## Part 5: Evaluation"
   ]
  },
  {
   "cell_type": "code",
   "execution_count": null,
   "metadata": {},
   "outputs": [],
   "source": [
    "prompts = [\n",
    "    \"Give a motivational message to a student preparing for exams.\",\n",
    "    \"You are a wise mentor. Write a short, poetic encouragement for a student.\",\n",
    "    \"You are a humorous coach. Motivate a tired student with some fun energy!\"\n",
    "]\n",
    "\n",
    "for i, prompt in enumerate(prompts):\n",
    "    print(f\"\\n=== PROMPT {i+1} ===\")\n",
    "    response = client.chat.completions.create(\n",
    "        model=\"deepseek-chat\",\n",
    "        messages=[{\"role\": \"user\", \"content\": prompt}]\n",
    "    )\n",
    "    print(response.choices[0].message.content)"
   ]
  },
  {
   "cell_type": "markdown",
   "metadata": {},
   "source": [
    "**🧠 Reflection:**\n",
    "- Which prompt gave the best result? Why?\n",
    "- How could prompt engineering reduce token cost while maintaining quality?"
   ]
  }
 ],
 "metadata": {
  "kernelspec": {
   "display_name": "Python 3",
   "language": "python",
   "name": "python3"
  },
  "language_info": {
   "codemirror_mode": {
    "name": "ipython",
    "version": 3
   },
   "file_extension": ".py",
   "mimetype": "text/x-python",
   "name": "python",
   "nbconvert_exporter": "python",
   "pygments_lexer": "ipython3",
   "version": "3.8.3"
  }
 },
 "nbformat": 4,
 "nbformat_minor": 5
}
